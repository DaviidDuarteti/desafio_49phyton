{
 "cells": [
  {
   "cell_type": "code",
   "execution_count": 8,
   "metadata": {},
   "outputs": [
    {
     "name": "stdout",
     "output_type": "stream",
     "text": [
      "Nesse texto contém, 1096 vogais..\n"
     ]
    }
   ],
   "source": [
    "text = \"text.txt\"\n",
    "cont = 0\n",
    "vogais = \"aeiou\"\n",
    "\n",
    "with open(text, \"r\", encoding=\"utf-8\") as arquivo:\n",
    "    conteudo = arquivo.read().lower()\n",
    "    for char in conteudo:\n",
    "        if char in vogais:\n",
    "            cont += 1\n",
    "\n",
    "print(f'Nesse texto contém, {cont} vogais..')"
   ]
  }
 ],
 "metadata": {
  "kernelspec": {
   "display_name": "Python 3",
   "language": "python",
   "name": "python3"
  },
  "language_info": {
   "codemirror_mode": {
    "name": "ipython",
    "version": 3
   },
   "file_extension": ".py",
   "mimetype": "text/x-python",
   "name": "python",
   "nbconvert_exporter": "python",
   "pygments_lexer": "ipython3",
   "version": "3.11.4"
  },
  "orig_nbformat": 4
 },
 "nbformat": 4,
 "nbformat_minor": 2
}
